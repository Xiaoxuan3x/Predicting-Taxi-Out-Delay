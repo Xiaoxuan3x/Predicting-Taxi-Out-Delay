{
 "cells": [
  {
   "attachments": {},
   "cell_type": "markdown",
   "metadata": {},
   "source": [
    "Aim：\n",
    "Design the Regression models to predict the Taxt-out values based on the other varibales\n",
    "Compare the accuray of Lasso, Ridge and LR"
   ]
  },
  {
   "cell_type": "code",
   "execution_count": null,
   "metadata": {},
   "outputs": [],
   "source": [
    "## import the libraries\n",
    "import numpy as np\n",
    "import pandas as pd\n",
    "import matplotlib.pyplot as plt\n",
    "from sklearn.model_selection import train_test_split\n",
    "from sklearn import metrics\n",
    "from sklearn.preprocessing import StandardScaler\n",
    "from sklearn.metrics import confusion_matrix\n",
    "from sklearn.linear_model import Lasso\n",
    "from sklearn.linear_model import Ridge\n",
    "from sklearn.linear_model import LinearRegression\n",
    "\n"
   ]
  },
  {
   "cell_type": "code",
   "execution_count": null,
   "metadata": {},
   "outputs": [],
   "source": [
    "##import data\n",
    "data = pd.read_csv(\"M1_final.csv\")\n",
    "data.head()"
   ]
  },
  {
   "cell_type": "code",
   "execution_count": null,
   "metadata": {},
   "outputs": [],
   "source": [
    "##replace wind type with degree\n",
    "wind_dict = {'NNW': 340, 'CALM': 0, 'NNE':20, 'NE':45, 'VAR':0, 'WSW':230, 'S':180, 'SSW':200, 'WNW':290, 'ESE':115, 'N': 360, 'SW':225, 'E':90, 'W':270, 'SSE':155, 'ENE':70, 'NW':315, 'SE':135}\n",
    "\n",
    "for item in wind_dict:\n",
    "    data.loc[data['Wind']== item ,'Wind'] = wind_dict[item]\n",
    "\n",
    "data"
   ]
  },
  {
   "cell_type": "code",
   "execution_count": null,
   "metadata": {},
   "outputs": [],
   "source": [
    "##replace weather condition type with numerical category \n",
    "weather_dict = {'Cloudy': 1, 'Couldy/Windy': 2, 'Drizzle and Fog':3, 'Fair':4, 'Fair / Windy':5, 'Fog':6, 'Fog / Windy':7, 'Heavy Rain':8, 'Heavy Rain/Windy':9, 'Light Drizzle':10, 'Light Drizzle / Windy': 11, 'Light Rain':12, 'Light Freezing Rain':13, 'Light Rain / Windy':14, 'Light Rain':15, 'Light Snow / Windy':16, 'Light Snow':17, 'Mostly Cloudy':18,'Mostly Cloudy / Windy':19,'Partly Cloudy':20,'Partly Cloudy / Windy':21,'Rain':22,'Rain / Windy':23,'Snow':24,'Wintry Mix':25,'Wintry Mix / Windy':26}\n",
    "for item in weather_dict:\n",
    "    data.loc[data['Condition']== item ,'Condition'] = weather_dict[item]\n",
    "data"
   ]
  },
  {
   "cell_type": "code",
   "execution_count": null,
   "metadata": {},
   "outputs": [],
   "source": [
    "##Convert non-numerical columns to nan, then convert nan to '0'\n",
    "newdata = data.apply(pd.to_numeric, errors='coerce')\n",
    "newdata.fillna(0,inplace=True)\n",
    "newdata\n"
   ]
  },
  {
   "cell_type": "code",
   "execution_count": null,
   "metadata": {},
   "outputs": [],
   "source": [
    "#newdata[['OP_UNIQUE_CARRIER','TAIL_NUM', 'DEST',]]=newdata[['OP_UNIQUE_CARRIER','TAIL_NUM','DEST']].replace(to_replace=r'[ABCDEFGHIJKLMNOPQRSTUVWXYZ]',value=float('nan'),regex=True)"
   ]
  },
  {
   "cell_type": "code",
   "execution_count": null,
   "metadata": {},
   "outputs": [],
   "source": [
    "## selct the data\n",
    "X = newdata.iloc[:,:-1].values\n",
    "y = newdata.iloc[:, -1].values\n"
   ]
  },
  {
   "cell_type": "code",
   "execution_count": null,
   "metadata": {},
   "outputs": [],
   "source": [
    "##split and train,80%train\n",
    "X_train,X_test,y_train,y_test=train_test_split(X,y,test_size=0.2,random_state=32)\n"
   ]
  },
  {
   "cell_type": "code",
   "execution_count": null,
   "metadata": {},
   "outputs": [],
   "source": [
    "## STANDARD  SCALER\n",
    "scaler = StandardScaler()\n",
    "X_train = scaler.fit_transform(X_train)\n",
    "X_test = scaler.transform(X_test)\n"
   ]
  },
  {
   "cell_type": "code",
   "execution_count": null,
   "metadata": {},
   "outputs": [],
   "source": [
    "###Compare different regression model"
   ]
  },
  {
   "cell_type": "code",
   "execution_count": null,
   "metadata": {},
   "outputs": [],
   "source": [
    "##model lasso\n",
    "model_lasso=Lasso(alpha=0.1, random_state= 32)\n",
    "model_lasso.fit(X_train,y_train)\n",
    "pred_lasso=model_lasso.predict(X_test)\n",
    "pred_lasso\n"
   ]
  },
  {
   "cell_type": "code",
   "execution_count": null,
   "metadata": {},
   "outputs": [],
   "source": [
    "pd.DataFrame({'Actual': y_test, 'Predicted': pred_lasso})"
   ]
  },
  {
   "cell_type": "code",
   "execution_count": null,
   "metadata": {},
   "outputs": [],
   "source": [
    "print('MAE:', metrics.mean_absolute_error(y_test, pred_lasso))\n",
    "print('MSE:', metrics.mean_squared_error(y_test, pred_lasso))\n",
    "print('RMSE:', np.sqrt(metrics.mean_squared_error(y_test, pred_lasso)))\n",
    "print('Accuracy of lasso model:', metrics.r2_score(y_test, pred_lasso))"
   ]
  },
  {
   "cell_type": "code",
   "execution_count": null,
   "metadata": {},
   "outputs": [],
   "source": [
    "##model ridge\n",
    "model_ridge = Ridge(alpha=0.1, random_state= 32)\n",
    "model_ridge.fit(X_train, y_train)\n",
    "pred_ridge=model_ridge.predict(X_test)\n",
    "pred_ridge"
   ]
  },
  {
   "cell_type": "code",
   "execution_count": null,
   "metadata": {},
   "outputs": [],
   "source": [
    "pd.DataFrame({'Actual': y_test, 'Predicted': pred_ridge})\n"
   ]
  },
  {
   "cell_type": "code",
   "execution_count": null,
   "metadata": {},
   "outputs": [],
   "source": [
    "print('MAE:', metrics.mean_absolute_error(y_test, pred_ridge))\n",
    "print('MSE:', metrics.mean_squared_error(y_test, pred_ridge))\n",
    "print('RMSE:', np.sqrt(metrics.mean_squared_error(y_test, pred_ridge)))\n",
    "print('Accuracy of ridge model:', metrics.r2_score(y_test, pred_ridge))"
   ]
  },
  {
   "cell_type": "code",
   "execution_count": null,
   "metadata": {},
   "outputs": [],
   "source": [
    "## Simple Linear regression\n",
    "model_linear=LinearRegression()\n",
    "model_linear.fit(X_train,y_train)\n",
    "pred_linear=model_linear.predict(X_test)\n",
    "pred_linear"
   ]
  },
  {
   "cell_type": "code",
   "execution_count": null,
   "metadata": {},
   "outputs": [],
   "source": [
    "pd.DataFrame({'Actual': y_test, 'Predicted': pred_linear})"
   ]
  },
  {
   "cell_type": "code",
   "execution_count": null,
   "metadata": {},
   "outputs": [],
   "source": [
    "print('MAE:', metrics.mean_absolute_error(y_test, pred_linear))\n",
    "print('MSE:', metrics.mean_squared_error(y_test, pred_linear))\n",
    "print('RMSE:', np.sqrt(metrics.mean_squared_error(y_test, pred_linear)))\n",
    "print('Accuracy of simple linear regression:', metrics.r2_score(y_test, pred_linear))"
   ]
  },
  {
   "attachments": {},
   "cell_type": "markdown",
   "metadata": {},
   "source": [
    "Accuracy of linear regression>Accuracy of ridge model>Accuracy of lasso model"
   ]
  },
  {
   "cell_type": "code",
   "execution_count": null,
   "metadata": {},
   "outputs": [],
   "source": [
    "## correlation matrix\n",
    "corr_matrix = data.corr()\n",
    "corr_matrix"
   ]
  }
 ],
 "metadata": {
  "kernelspec": {
   "display_name": "Python 3",
   "language": "python",
   "name": "python3"
  },
  "language_info": {
   "codemirror_mode": {
    "name": "ipython",
    "version": 3
   },
   "file_extension": ".py",
   "mimetype": "text/x-python",
   "name": "python",
   "nbconvert_exporter": "python",
   "pygments_lexer": "ipython3",
   "version": "3.10.9"
  },
  "orig_nbformat": 4,
  "vscode": {
   "interpreter": {
    "hash": "0ca41057e3a70a62c53df19ba7dc952e4fa05c82ddaff18a81e06494446360a6"
   }
  }
 },
 "nbformat": 4,
 "nbformat_minor": 2
}
